{
 "cells": [
  {
   "cell_type": "markdown",
   "metadata": {},
   "source": [
    "# Retrieval prototype\n",
    "\n",
    "Task: Given a question, you have to find the **best wikipedia article** that answers it.\n",
    "\n",
    "For this task, we will try semantic search with the following models:\n",
    "\n",
    "- sentence-transformers/all-mpnet-base-v2 (109M): According to [SBERT documentation](https://www.sbert.net/docs/sentence_transformer/pretrained_models.html#semantic-search-models), the all-mpnet-base-v2 model provides the best quality. It is relatively small at 109M. We will use this as a baseline.\n",
    "- sentence-transformers/gtr-t5-xxl (4.86B): [Meta DPR](https://github.com/facebookresearch/DPR) uses the powerful gtr-t5-xxl model. At 4.86b parameters, it is quite large. Creating index takes almost 2h A100\n",
    "\n",
    "Metrics:\n",
    "- Top-1 accuracy\n"
   ]
  },
  {
   "cell_type": "markdown",
   "metadata": {},
   "source": [
    "Resources:\n",
    "https://medium.com/@nadikapoudel16/advanced-rag-implementation-using-hybrid-search-reranking-with-zephyr-alpha-llm-4340b55fef22"
   ]
  },
  {
   "cell_type": "code",
   "execution_count": 2,
   "metadata": {},
   "outputs": [],
   "source": [
    "import os \n",
    "from datasets import load_dataset\n",
    "from langchain.docstore.document import Document\n",
    "from langchain_text_splitters import RecursiveCharacterTextSplitter\n",
    "from langchain_huggingface import HuggingFaceEmbeddings\n",
    "import json\n",
    "import numpy as np\n",
    "from tqdm.notebook import tqdm\n",
    "from FlagEmbedding import FlagReranker\n",
    "from utils import get_vector_db, get_query_embeddings\n",
    "from logger import logger\n",
    "\n",
    "os.environ[\"CUDA_VISIBLE_DEVICES\"] = \"1\""
   ]
  },
  {
   "cell_type": "code",
   "execution_count": 3,
   "metadata": {},
   "outputs": [
    {
     "name": "stderr",
     "output_type": "stream",
     "text": [
      "/home/shanghong/miniconda3/envs/faiss_1.8.0/lib/python3.10/site-packages/datasets/load.py:1486: FutureWarning: The repository for wikipedia contains custom code which must be executed to correctly load the dataset. You can inspect the repository content at https://hf.co/datasets/wikipedia\n",
      "You can avoid this message in future by passing the argument `trust_remote_code=True`.\n",
      "Passing `trust_remote_code=True` will be mandatory to load this dataset from the next major release of `datasets`.\n",
      "  warnings.warn(\n"
     ]
    }
   ],
   "source": [
    "wiki_dataset = load_dataset(\"wikipedia\", \"20220301.simple\")\n",
    "if not os.path.exists(\"wiki_data.jsonl\"):\n",
    "    wiki_dataset[\"train\"].to_json(\"wiki_data.jsonl\")  "
   ]
  },
  {
   "cell_type": "code",
   "execution_count": 4,
   "metadata": {},
   "outputs": [
    {
     "name": "stderr",
     "output_type": "stream",
     "text": [
      "\u001b[32m 2025-01-31 19:01:32,590 - INFO - page_content='April is the fourth month of the year in the Julian and Gregorian calendars, and comes between March and May. It is one of four months to have 30 days.\n",
      "\n",
      "April always begins on the same day of week as July, and additionally, January in leap years. April always ends on the same day of the week as December.\n",
      "\n",
      "April's flowers are the Sweet Pea and Daisy. Its birthstone is the diamond. The meaning of the diamond is innocence.\n",
      "\n",
      "The Month \n",
      "\n",
      "April comes between March and May, making it the fourth month of the year. It also comes first in the year out of the four months that have 30 days, as June, September and November are later in the year.\n",
      "\n",
      "April begins on the same day of the week as July every year and on the same day of the week as January in leap years. April ends on the same day of the week as December every year, as each other's last days are exactly 35 weeks (245 days) apart.\n",
      "\n",
      "In common years, April starts on the same day of the week as October of the previous year, and in leap years, May of the previous year. In common years, April finishes on the same day of the week as July of the previous year, and in leap years, February and October of the previous year. In common years immediately after other common years, April starts on the same day of the week as January of the previous year, and in leap years and years immediately after that, April finishes on the same day of the week as January of the previous year.\n",
      "\n",
      "In years immediately before common years, April starts on the same day of the week as September and December of the following year, and in years immediately before leap years, June of the following year. In years immediately before common years, April finishes on the same day of the week as September of the following year, and in years immediately before leap years, March and June of the following year.\n",
      "\n",
      "April is a spring month in the Northern Hemisphere and an autumn/fall month in the Southern Hemisphere. In each hemisphere, it is the seasonal equivalent of October in the other.\n",
      "\n",
      "It is unclear as to where April got its name. A common theory is that it comes from the Latin word \"aperire\", meaning \"to open\", referring to flowers opening in spring. Another theory is that the name could come from Aphrodite, the Greek goddess of love. It was originally the second month in the old Roman Calendar, before the start of the new year was put to January 1.\n",
      "\n",
      "Quite a few festivals are held in this month. In many Southeast Asian cultures, new year is celebrated in this month (including Songkran). In Western Christianity, Easter can be celebrated on a Sunday between March 22 and April 25. In Orthodox Christianity, it can fall between April 4 and May 8. At the end of the month, Central and Northern European cultures celebrate Walpurgis Night on April 30, marking the transition from winter into summer.\n",
      "\n",
      "April in poetry \n",
      "Poets use April to mean the end of winter. For example: April showers bring May flowers.\n",
      "\n",
      "Events in April\n",
      "\n",
      "Fixed Events \n",
      "\n",
      " April 1 - April Fools' Day\n",
      " April 1 - Islamic Republic Day (Iran)\n",
      " April 2 - International Children's Book Day\n",
      " April 2 - Thai Heritage and Conservation Day\n",
      " April 2 - World Autism Awareness Day\n",
      " April 2 - Malvinas Day (Argentina)\n",
      " April 4 - Independence Day (Senegal)\n",
      " April 4 - International Day for Landmine Awareness and Assistance\n",
      " April 4 - Peace Day (Angola)\n",
      " April 5 - End of Tax Year (United Kingdom)\n",
      " April 6 - Tartan Day (Canada and United States)\n",
      " April 6 - Chakri Day (Thailand)\n",
      " April 7 - Day of Maternity and Beauty (Armenia)\n",
      " April 7 - Genocide Memorial Day (Rwanda)\n",
      " April 7 - World Health Day\n",
      " April 7 - Women's Day (Mozambique)\n",
      " April 8 - Buddha's Birthday (Buddhism)\n",
      " April 9 - Martyrs' Day (Tunisia)\n",
      " April 9 - Day of National Unity (Georgia)\n",
      " April 9 - Day of the Finnish language\n",
      " April 12 - Cosmonauts' Day (Russia), marking the day of Yuri Gagarin's space flight\n",
      " April 13 - Songkan (Laos), local New Year celebration\n",
      " April 13 - Cambodian New Year\n",
      " April 13 - Thomas Jefferson's Birthday (United States)\n",
      " April 14 - Southeast Asian New Year festivals, including Songkran\n",
      " April 14 - Georgian language Day\n",
      " April 14 - Youth Day (Angola)\n",
      " April 14 - Ambedkar Tayanti (India)\n",
      " April 14 - Pan-American Day\n",
      " April 15 - Tax Day (United States)\n",
      " April 15 - Kim Il-Sung's Birthday (North Korea)\n",
      " April 15 - Father Damien Day (Hawaii)\n",
      " April 15 - Jackie Robinson Day (Major League Baseball)\n",
      " April 16 - Birthday of Queen Margrethe II of Denmark\n",
      " April 16 - Emancipation Day (Washington, DC)\n",
      " April 16 - World Voice Day\n",
      " April 16 - Selena Day (Texas)\n",
      " April 17 - National Day of Syria\n",
      " April 17 - Flag Day (American Samoa)\n",
      " April 17 - Women's Day (Gabon)\n",
      " April 17 - World Hemophilia Day\n",
      " April 18 - Independence Day (Zimbabwe)\n",
      " April 18 - Invention Day (Japan)\n",
      " April 18 - International Day of Monuments and Sites\n",
      " April 19 - Bicycle Day\n",
      " April 19 - Dutch-American Friendship Day\n",
      " April 19 - Birthday of King Mswati III of Swaziland\n",
      " April 19 - Patriots' Day (Massachusetts, Maine, Wisconsin)\n",
      " April 20 - 4/20 in Cannabis Culture\n",
      " April 21 - John Muir Day (California)\n",
      " April 21 - San Jacinto Day (Texas)\n",
      " April 21 - Kartini Day (Indonesia)\n",
      " April 21 - National Tree Planting Day (Kenya)\n",
      " April 21 - First Day of Ridran (Baha'i faith)\n",
      " April 21 - Grounation Day (Rastafari movement)\n",
      " April 22 - Earth Day\n",
      " April 22 - Discovery Day (Brazil)\n",
      " April 23 - Saint George's Day, celebrating the patron saint of several countries, regions and cities (including England and Catalonia)\n",
      " April 23 - World Book Day\n",
      " April 23 - National Sovereignty and Children's Day (Turkey)\n",
      " April 24 - Democracy Day (Nepal)\n",
      " April 24 - Genocide Day (Armenia)\n",
      " April 24 - Republic Day (the Gambia)\n",
      " April 25 - Australia and New Zealand celebrate ANZAC Day. ANZAC  means Australian and New Zealand Army Corps, and began in 1915.\n",
      " April 25 - World DNA Day\n",
      " April 25 - World Malaria Day\n",
      " April 25 - Flag Day (Swaziland, Faroe Islands)\n",
      " April 25 - Freedom Day (Portugal)\n",
      " April 25 - Liberation Day (Italy)\n",
      " April 25 - Army Day (North Korea)\n",
      " April 26 - Union Day (Tanzania)\n",
      " April 26 - Confederate Memorial Day (Texas, Florida)\n",
      " April 27 - Independence Day (Sierra Leone and Togo)\n",
      " April 27 - Freedom Day (South Africa)\n",
      " April 27 - World Tapir Day\n",
      " April 27 - King's Day (Netherlands) from 2014, birthday of Willem-Alexander of the Netherlands\n",
      " April 28 - Workers Memorial Day\n",
      " April 28 - National Day (Sardinia)\n",
      " April 28 - National Heroes Day (Barbados)\n",
      " April 29 - Showa Day (Japan), birthday of Emperor Hirohito, who died in 1989\n",
      " April 29 - International Dance Day\n",
      " April 30 - Former Queen's Day Holiday in the Netherlands (changed to King's Day, April 27 in 2014), was the birthday of former Queen Juliana of the Netherlands\n",
      " April 30 - Flag Day in Sweden (birthday of King Carl XVI Gustaf of Sweden)\n",
      " April 30 - International Jazz Day\n",
      " April 30 - Walpurgis Night (Central and Northern Europe)\n",
      "\n",
      "Moveable Events \n",
      "\n",
      " Easter-related events in Western Christianity:\n",
      " Palm Sunday (between March 15 and April 18)\n",
      " Maundy Thursday (between March 19 and April 22)\n",
      " Good Friday (between March 20 and April 23)\n",
      " Easter Sunday (between March 22 and April 25)\n",
      " Easter Monday (between March 23 and April 26)\n",
      " Eastern Orthodox Easter falls between April 4 and May 8.\n",
      " Ascension Day (Western Christianity), falls between April 30 and June 3.\n",
      " Jewish Passover - falls in the same week as Western Christianity's Holy Week, which is the week leading up to Easter.\n",
      " Mother's Day (UK) falls between March 1 and April 4.\n",
      " World Snooker Championship (late April, early May)\n",
      " Horse racing - Grand National (UK), Kentucky Derby (United States)\n",
      " Start of Daylight Saving Time - Clocks going forward one hour:\n",
      " Most of Mexico\n",
      " Morocco (Ramadan does not include Daylight Saving Time)\n",
      " End of Daylight Saving Time - Clocks going back one hour:\n",
      " Southeast Australia, and New Zealand\n",
      " Chile\n",
      " Marathon Events in the following cities:\n",
      " Belgrade, Serbia\n",
      " Boston, Massachusetts, United States\n",
      " Brighton, United Kingdom\n",
      " Enschede, Netherlands\n",
      " London, United Kingdom\n",
      " Madrid, Spain\n",
      " Paris, France\n",
      " Rotterdam, Netherlands\n",
      " Utrecht, Netherlands\n",
      " Zurich, Switzerland\n",
      "\n",
      "Selection of Historical Events \n",
      "\n",
      " April 1, 1918 - The Royal Air Force is founded.\n",
      " April 1, 1976 - Apple Inc. is founded.\n",
      " April 1, 1979 - The Islamic Republic of Iran is founded.\n",
      " April 1, 1999 - The territory of Nunavut is created in Northern Canada.\n",
      " April 1, 2001 - The Netherlands introduces same-sex marriage, as the first country to do so.\n",
      " April 2, 1519 - Florida is sighted by a European for the first time.\n",
      " April 2, 1930 - Haile Selassie becomes Emperor of Ethiopia.\n",
      " April 2, 1982 - Start of the Falklands War, as Argentine forces land on the Falkland Islands.\n",
      " April 2, 2005 - Pope John Paul II dies aged 84, after 26-and-a-half years as Pope.\n",
      " April 3, 1973 - The first-ever mobile phone call is placed by Martin Cooper in New York City.\n",
      " April 4, 1721 - Robert Walpole becomes the first Prime Minister of Great Britain.\n",
      " April 4, 1841 - William Henry Harrison dies. He was President of the United States for 31 days, the shortest-ever time in office for a US President.\n",
      " April 4, 1960 - Senegal becomes independent.\n",
      " April 4, 1968 - Assassination of Martin Luther King, Jr. in Memphis, Tennessee.\n",
      " April 5, 1722 - Jacob Roggeveen becomes the first European to land on Easter Island, landing there on Easter Sunday.\n",
      " April 6, 1320 - Scotland's independence is confirmed with the Declaration of Arbroath.\n",
      " April 6, 1830 - The Mormon Church is founded.\n",
      " April 6, 1909 - Robert Peary claims to have been first at the North Pole on this date.\n",
      " April 7, 1994 - The Rwandan Genocide begins.\n",
      " April 9, 1865 - American Civil War: Confederate forces under Robert E. Lee surrender to Union forces.\n",
      " April 9, 1940 - World War II: Denmark and Norway are invaded by Nazi Germany.\n",
      " April 9, 1989 - April 9 tragedy: In Tbilisi, Georgia, a peaceful demonstration for independence is broken up by the Soviet Army, killing 20 people. The country gains independence on this date exactly two years later.\n",
      " April 10, 1815 - Mount Tambora in Indonesia erupts in a huge eruption, affecting the world's climate for at least a year.\n",
      " April 10, 2010 - A plane crash near Smolensk, Russia, kills several people who were important in Poland, including President Lech Kaczynski.\n",
      " April 11, 1814 - Napoleon Bonaparte is exiled to the island of Elba.\n",
      " April 11, 1954 - Said to have been the most boring day of the 20th century.\n",
      " April 12, 1861 - The American Civil War begins at Fort Sumter, Charleston, South Carolina.\n",
      " April 12, 1945 - US President Franklin D. Roosevelt dies, and Harry S. Truman replaces him.\n",
      " April 12, 1961 - Yuri Gagarin becomes the first human to fly into space.\n",
      " April 14, 1865 - US President Abraham Lincoln is shot dead at Ford's Theatre by John Wilkes Booth. Lincoln dies the next day.\n",
      " April 14, 2010 - Qinghai Province, China, is hit by an earthquake, killing tens of thousands of people.\n",
      " April 14, 2010 - The eruption of Eyjafjallajokull in Iceland shuts down air traffic around Europe for a week, due to its ash cloud.\n",
      " April 15, 1912 - The ship RMS Titanic sinks near Newfoundland after hitting an iceberg, resulting in the deaths of many of the people on board.\n",
      " April 16, 1943 - Albert Hofmann discovers LSD's effects.\n",
      " April 17, 1946 - Syria gains full independence from France.\n",
      " April 18, 1906 - 1906 San Francisco earthquake: San Francisco, California, is hit by a big earthquake, resulting in fires that destroy large parts of the city.\n",
      " April 18, 1980 - Zimbabwe gains full independence.\n",
      " April 19, 1897 - The first Boston Marathon is held.\n",
      " April 19, 1971 - Sierra Leone becomes a republic.\n",
      " April 19, 1993 - The siege of the Branch Davidians at Waco, Texas, ends in a fire that kills 82 people.\n",
      " April 19, 1995 - Timothy McVeigh carries out the Oklahoma City bombing, killing 169 people.\n",
      " April 19, 2005 - Joseph Alois Ratzinger becomes Pope Benedict XVI.\n",
      " April 20, 1902 - Marie Curie and Pierre Curie refine Radium.\n",
      " April 20, 2010 - Deepwater Horizon oil spill: A massive fire on the Deepwater Horizon drilling rig in the Gulf of Mexico kills 11 workers and causes a massive oil spill, the worst spill in US history.\n",
      " April 21, 753 BC - Legendary founding date of Rome\n",
      " April 21, 1509 - Henry VIII of England becomes King.\n",
      " April 21, 1908 - Frederick Cook claims to have reached the North Pole on this date.\n",
      " April 22, 1502 - Pedro Alvares Cabral becomes the first European to reach present-day Brazil.\n",
      " April 22, 1970 - Earth Day is observed for the first time.\n",
      " April 23, 1533 - The Church of England declares that Henry VIII of England and Catherine of Aragon are not married.\n",
      " April 24, 1916 - The Easter Rising occurs in Dublin, Ireland.\n",
      " April 24, 1990 - The Hubble Space Telescope is launched on the Space Shuttle Discovery.\n",
      " April 25, 1915 - World War I: In Turkey, the Battle of Gallipoli begins, Australian, French, British and New Zealand forces land at Anzac cove.\n",
      " April 25, 1974 - Portugal's dictatorship is overthrown in a coup, in what is known as the Carnation Revolution.\n",
      " April 26, 1937 - Spanish Civil War: German planes bomb the town of Guernica, Basque Country, later depicted in a painting by Pablo Picasso.\n",
      " April 26, 1964 - Tanganyika and Zanzibar merge to form Tanzania.\n",
      " April 26, 1986 - A reactor explosion occurs at the Chernobyl nuclear plant in present-day Ukraine, with radiation spreading around Europe and the world.\n",
      " April 26/27, 1994 - South Africa holds its first free elections.\n",
      " April 27, 1960 - Togo becomes independent from France.\n",
      " April 27, 1961 - Sierra Leone becomes independent from the United Kingdom.\n",
      " April 28, 1789 - Mutiny on the ship Bounty in the Pacific Ocean, lead by Fletcher Christian.\n",
      " April 28, 1945 - Benito Mussolini is executed by Italian partisans.\n",
      " April 28, 1947 - In Peru, Thor Heyerdahl starts his Kon-Tiki expedition aimed at proving his theory that the Polynesian settlers on the Pacific Ocean's islands came from South America.\n",
      " April 29, 1991 - A cyclone in Bangladesh kills an estimated 138,000 people.\n",
      " April 29, 2011 - The wedding of Prince William, Duke of Cambridge and Catherine, Duchess of Cambridge is broadcast worldwide.\n",
      " April 30, 1789 - George Washington becomes the first President of the United States.\n",
      " April 30, 1803 - The United States purchases (buys) the Louisiana territory from France.\n",
      " April 30, 1945 - Adolf Hitler commits suicide on the same day that the Soviet Army raises the Red Flag on Berlin's Reichstag.\n",
      " April 30, 1952 - The Diary of Anne Frank is published in English.\n",
      " April 30, 1975 - The Vietnam War ends, as North Vietnamese forces take Saigon.\n",
      " April 30, 1980 - Queen Juliana of the Netherlands abdicates the throne, and her daughter becomes Queen Beatrix of the Netherlands. Beatrix later also abdicates, on this day in 2013, in favor of her son, King Willem-Alexander of the Netherlands.\n",
      "\n",
      "Trivia \n",
      "\n",
      " In Western Christianity, there is a bigger likelihood of Easter falling in April than in March.\n",
      " The months around April (March and May) both start with an 'M' in the English language, with an 'A' as the second letter.\n",
      " In the English language, April is the first of three months in-a-row, along with May and June, that is also a female given name.\n",
      " The astrological signs for April are Aries (March 21 to April 20) and Taurus (April 21 to May 20).\n",
      " The sweet pea and daisy are the traditional birth flowers for April.\n",
      " Birthstone for April is the Diamond.\n",
      "April 1 is the only day in April to start within the first quarter of the calendar year.\n",
      " If the months of the year were arranged in alphabetical order in the English language, April would come first.\n",
      " Six current European monarchs were born in April. They are King Philippe of Belgium (April 15), Queen Margrethe II of Denmark (April 16), Henri, Grand Duke of Luxembourg (April 16), Elizabeth II of the United Kingdom and Commonwealth realms (April 21), King Willem-Alexander of the Netherlands (April 27), and King Carl XVI Gustaf of Sweden (April 30).\n",
      "\n",
      "References' metadata={'id': '1', 'url': 'https://simple.wikipedia.org/wiki/April', 'title': 'April'}\u001b[0m\n"
     ]
    }
   ],
   "source": [
    "documents = []\n",
    "for row in wiki_dataset[\"train\"].select(range(10000)):\n",
    "    doc = Document(\n",
    "        page_content=row[\"text\"], \n",
    "        metadata={\n",
    "            \"id\": row[\"id\"],\n",
    "            \"url\": row[\"url\"],\n",
    "            \"title\": row[\"title\"],\n",
    "        }\n",
    "    )\n",
    "    documents.append(doc)\n",
    "logger.info(documents[0])"
   ]
  },
  {
   "cell_type": "code",
   "execution_count": 5,
   "metadata": {},
   "outputs": [
    {
     "name": "stderr",
     "output_type": "stream",
     "text": [
      "\u001b[32m 2025-01-31 19:01:33,561 - INFO - Total number of splits: 45571\u001b[0m\n",
      "\u001b[32m 2025-01-31 19:01:33,562 - INFO - page_content='April is the fourth month of the year in the Julian and Gregorian calendars, and comes between March and May. It is one of four months to have 30 days.\n",
      "\n",
      "April always begins on the same day of week as July, and additionally, January in leap years. April always ends on the same day of the week as December.\n",
      "\n",
      "April's flowers are the Sweet Pea and Daisy. Its birthstone is the diamond. The meaning of the diamond is innocence.\n",
      "\n",
      "The Month \n",
      "\n",
      "April comes between March and May, making it the fourth month of the year. It also comes first in the year out of the four months that have 30 days, as June, September and November are later in the year.\n",
      "\n",
      "April begins on the same day of the week as July every year and on the same day of the week as January in leap years. April ends on the same day of the week as December every year, as each other's last days are exactly 35 weeks (245 days) apart.' metadata={'id': '1', 'url': 'https://simple.wikipedia.org/wiki/April', 'title': 'April', 'start_index': 0}\u001b[0m\n"
     ]
    }
   ],
   "source": [
    "text_splitter = RecursiveCharacterTextSplitter(\n",
    "    chunk_size=1000, chunk_overlap=200, add_start_index=True\n",
    ")\n",
    "all_splits = text_splitter.split_documents(documents)\n",
    "\n",
    "logger.info(f'Total number of splits: {len(all_splits)}')\n",
    "logger.info(f'{all_splits[0]}')"
   ]
  },
  {
   "cell_type": "code",
   "execution_count": 6,
   "metadata": {},
   "outputs": [],
   "source": [
    "# Load train dataset\n",
    "train_dataset = []\n",
    "with open('train.jsonl', 'r', encoding='utf-8') as file:\n",
    "    for line in file:\n",
    "        train_dataset.append(json.loads(line.strip()))"
   ]
  },
  {
   "cell_type": "code",
   "execution_count": 7,
   "metadata": {},
   "outputs": [
    {
     "name": "stderr",
     "output_type": "stream",
     "text": [
      "\u001b[32m 2025-01-31 19:01:33,622 - INFO - Max score: 1356381\u001b[0m\n"
     ]
    }
   ],
   "source": [
    "# Baseline\n",
    "max_score = 0\n",
    "for idx, item in enumerate(train_dataset):\n",
    "    max_score += item['points']\n",
    "logger.info(f'Max score: {max_score}')"
   ]
  },
  {
   "cell_type": "markdown",
   "metadata": {},
   "source": [
    "## sentence-transformers/all-mpnet-base-v2"
   ]
  },
  {
   "cell_type": "code",
   "execution_count": 8,
   "metadata": {},
   "outputs": [
    {
     "name": "stderr",
     "output_type": "stream",
     "text": [
      "/home/shanghong/miniconda3/envs/faiss_env/lib/python3.9/site-packages/transformers/tokenization_utils_base.py:1601: FutureWarning: `clean_up_tokenization_spaces` was not set. It will be set to `True` by default. This behavior will be depracted in transformers v4.45, and will be then set to `False` by default. For more details check this issue: https://github.com/huggingface/transformers/issues/31884\n",
      "  warnings.warn(\n"
     ]
    },
    {
     "name": "stdout",
     "output_type": "stream",
     "text": [
      "Index found, loading...\n"
     ]
    }
   ],
   "source": [
    "model = \"all_mpnet_base_v2\"\n",
    "embeddings = HuggingFaceEmbeddings(\n",
    "    model_name=\"sentence-transformers/all-mpnet-base-v2\",\n",
    "    model_kwargs = {'device':'cuda'},\n",
    "    encode_kwargs = {'normalize_embeddings': False})\n",
    "\n",
    "db = get_vector_db(model=model, embeddings=embeddings)"
   ]
  },
  {
   "cell_type": "code",
   "execution_count": 9,
   "metadata": {},
   "outputs": [
    {
     "name": "stdout",
     "output_type": "stream",
     "text": [
      "Processing queries...\n",
      "Processing results...\n",
      "all_mpnet_base_v2 score: 652667 (48.12%)\n",
      "Saved top 5 retrieved documents to retrieved_results_all_mpnet_base_v2.json\n"
     ]
    }
   ],
   "source": [
    "print(\"Processing queries...\")\n",
    "query_embeddings = np.array(get_query_embeddings(train_dataset, db, embedding_path=f\"query_embeddings_{model}.pkl\"), dtype=np.float32)\n",
    "D, I = db.index.search(query_embeddings, k=5)  # k = number of nearest neighbors\n",
    "\n",
    "print(\"Processing results...\")\n",
    "total_score = 0\n",
    "results = [] \n",
    "\n",
    "for idx, item in enumerate(train_dataset):\n",
    "    query = item['question']\n",
    "    gold_title = item['article']\n",
    "    points = item['points']\n",
    "    \n",
    "    # Store top 5 retrieved documents\n",
    "    retrieved_docs = []\n",
    "    for rank in range(5): \n",
    "        doc_index = I[idx][rank]\n",
    "        distance = D[idx][rank]\n",
    "        \n",
    "        doc = db.docstore._dict[db.index_to_docstore_id[doc_index]]\n",
    "        doc_content = doc.page_content\n",
    "        doc_metadata = doc.metadata\n",
    "        retrieved_title = doc_metadata['title']\n",
    "\n",
    "        retrieved_docs.append({\n",
    "            \"rank\": rank + 1,\n",
    "            \"title\": retrieved_title,\n",
    "            \"content\": doc_content,\n",
    "            \"distance\": float(distance)  \n",
    "        })\n",
    "\n",
    "    # Check if the highest-ranked document matches the gold title\n",
    "    if retrieved_docs[0][\"title\"] == gold_title:\n",
    "        total_score += item['points']\n",
    "\n",
    "    results.append({\n",
    "        \"query\": query,\n",
    "        \"gold_article\": gold_title,\n",
    "        \"points\": points, \n",
    "        \"retrieved_docs\": retrieved_docs\n",
    "    })\n",
    "\n",
    "# Save results to JSON\n",
    "output_data = {\n",
    "    \"model\": model,\n",
    "    \"total_score\": total_score,\n",
    "    \"accuracy_percentage\": round(total_score / max_score * 100, 2),\n",
    "    \"results\": results\n",
    "}\n",
    "\n",
    "with open(f\"retrieved_results_{model}.json\", \"w\", encoding=\"utf-8\") as f:\n",
    "    json.dump(output_data, f, ensure_ascii=False, indent=4)\n",
    "\n",
    "print(f\"{model} score: {total_score} ({output_data['accuracy_percentage']}%)\")\n",
    "print(f\"Saved top 5 retrieved documents to retrieved_results_{model}.json\")\n"
   ]
  },
  {
   "cell_type": "markdown",
   "metadata": {},
   "source": [
    "Hypothesis: more powerful embedding model may capture semantics of document chunks better, resulting in better retrieval"
   ]
  },
  {
   "cell_type": "markdown",
   "metadata": {},
   "source": [
    "## sentence-transformers/gtr-t5-xxl"
   ]
  },
  {
   "cell_type": "code",
   "execution_count": 8,
   "metadata": {},
   "outputs": [
    {
     "name": "stderr",
     "output_type": "stream",
     "text": [
      "\u001b[32m 2025-01-31 19:01:43,499 - INFO - Load pretrained SentenceTransformer: sentence-transformers/gtr-t5-xxl\u001b[0m\n"
     ]
    },
    {
     "name": "stderr",
     "output_type": "stream",
     "text": [
      "/home/shanghong/miniconda3/envs/faiss_1.8.0/lib/python3.10/site-packages/transformers/tokenization_utils_base.py:1601: FutureWarning: `clean_up_tokenization_spaces` was not set. It will be set to `True` by default. This behavior will be depracted in transformers v4.45, and will be then set to `False` by default. For more details check this issue: https://github.com/huggingface/transformers/issues/31884\n",
      "  warnings.warn(\n"
     ]
    }
   ],
   "source": [
    "# Load embeddings\n",
    "embeddings = HuggingFaceEmbeddings(\n",
    "    model_name=\"sentence-transformers/gtr-t5-xxl\",\n",
    "    model_kwargs = {'device':'cuda'},\n",
    "    encode_kwargs = {'normalize_embeddings': False})"
   ]
  },
  {
   "cell_type": "code",
   "execution_count": 9,
   "metadata": {},
   "outputs": [
    {
     "name": "stderr",
     "output_type": "stream",
     "text": [
      "\u001b[32m 2025-01-31 19:01:54,952 - INFO - Loading faiss with AVX2 support.\u001b[0m\n",
      "\u001b[32m 2025-01-31 19:01:54,979 - INFO - Successfully loaded faiss with AVX2 support.\u001b[0m\n"
     ]
    },
    {
     "name": "stdout",
     "output_type": "stream",
     "text": [
      "Index found, loading...\n"
     ]
    }
   ],
   "source": [
    "db = get_vector_db(model_name = \"gtr_t5_xxl\", embeddings=embeddings)"
   ]
  },
  {
   "cell_type": "code",
   "execution_count": 11,
   "metadata": {},
   "outputs": [
    {
     "name": "stdout",
     "output_type": "stream",
     "text": [
      "Question:how do living organisms in a natural environment respond to changes in weather or climate?\n",
      "=========\n",
      "Gold article:Environment\n",
      "=========\n",
      "Title: Global warming\n",
      "Content: As the Earth's surface temperature becomes hotter the sea level rises. This is partly because water over  expands when it gets warmer. It is also partly because warm temperatures make glaciers and ice caps melt. The sea level rise causes coastal areas to flood. Weather patterns, including where and how much rain or snow there is, are changing. Deserts will probably increase in size. Colder areas will warm up faster than warm areas. Strong storms may become more likely and farming may not make as much food. These effects will not be the same everywhere. The changes from one area to another are not well known.\n",
      "\n",
      "Governments have agreed to keep temperature rise below , but current plans by governments are not enough to limit global warming that much.\n",
      "Score:0.6273342967033386\n",
      "=========\n",
      "Title: Weather\n",
      "Content: Weather is the day-to-day or hour-to-hour change in the atmosphere. Weather includes wind, lightning, storms, hurricanes, tornadoes, rain, hail, snow, and lots more. Energy from the Sun affects the weather too. \n",
      "Climate tells us what kinds of weather usually happen in an area at different times of the year. \n",
      "Changes in weather can affect our mood and life. We wear different clothes and do different things in different weather conditions. We choose different foods in different seasons.   \n",
      "\n",
      "Weather stations around the world measure different parts of weather. Ways to measure weather are wind speed, wind direction, temperature and humidity. People try to use these measurements to make weather forecasts for the future.  These people are  scientists that are called meteorologists. They use computers to build large mathematical models to follow weather trends.\n",
      "Score:0.654151439666748\n",
      "=========\n",
      "Title: Global warming\n",
      "Content: Dealing with impacts of climate change \n",
      "People can change how they live because of the impacts of climate change. For example, they can go to places where the weather is better, or build walls around cities to keep flood water out. This cost money, and rich people and rich countries will be able to change more easily than the poor.\n",
      "Score:0.6652471423149109\n",
      "=========\n",
      "Title: Life\n",
      "Content: Summary\n",
      "\n",
      "Living things, or organisms, can be explained as open systems. They are always changing, because they exchange materials and information with their environment. They undergo metabolism, maintain homeostasis, possess a capacity to grow, respond to stimuli and reproduce.\n",
      "\n",
      "Through natural selection, they adapt to their environment in successive generations. More complex living organisms can communicate through various means. Many life forms can be found on Earth. The properties common to these organisms—plants, animals, fungi, protists, archaea, and bacteria—are a carbon and water-based cellular form with complex organization and heritable genetic information.\n",
      "Score:0.6723803877830505\n",
      "=========\n",
      "Title: Utah\n",
      "Content: Climate\n",
      "Score:0.6929355263710022\n",
      "=========\n",
      "Title: Environment\n",
      "Content: Natural environment\n",
      "\n",
      "In biology and ecology, the environment is all of the natural materials and living things, If those things are natural, it is a natural environment.\n",
      "\n",
      "Environment includes the living and nonliving things that an organism interacts with, or has an effect on it. Living elements that an organism interacts with are known as biotic elements: animals, plants, etc., abiotic elements are non living things which include air, water, sunlight etc. Studying the environment means studying the relationships among these various things. An example of interactions between non-living and living things is plants getting their minerals from the soil and making food using sunlight. Predation, an organism eating another, is an example of interaction between living things.\n",
      "Score:0.717897355556488\n",
      "=========\n",
      "Title: Ecosystem\n",
      "Content: Energy \n",
      "Ecosystems are stable, but changeable. They react to major changes in the environment, especially climate changes. For example, the major rainforests have lasted for a long time (perhaps 50 million years or more in some cases). As the rainfall and temperature changes, they change. We know that the Amazon rainforest shrank in size during ice ages, and expanded in the warmer periods.\n",
      "\n",
      "Primary production \n",
      "What drives all ecosystems is the primary production. Primary production is the production of organic matter from inorganic carbon sources. This happens through photosynthesis. It drives the carbon cycle, which influences global climate via the greenhouse effect.\n",
      "Score:0.7297114133834839\n",
      "=========\n",
      "Title: Environment\n",
      "Content: In psychology and medicine, a person's environment is the people, physical things and places that the person lives with. The environment affects the growth and development of the person. It affects the person's behavior, body, mind and heart. \n",
      "\n",
      "The living conditions of living organisms in an environment are affected by the weather or climate  changes in the environment.\n",
      "\n",
      "Natural environment\n",
      "\n",
      "In biology and ecology, the environment is all of the natural materials and living things, If those things are natural, it is a natural environment.\n",
      "Score:0.7333669662475586\n",
      "=========\n",
      "Title: Meteorology\n",
      "Content: They use computerized and mathematical models to make short and long-range forecasts concerning weather and climate patterns. A variety of organizations use meteorological forecasts including:\n",
      "transport services, particularly air and sea travel\n",
      "shipping and sea fishing industries and sailing organisations\n",
      "government services, e.g. firefighters or for advice on climate change policy\n",
      "armed forces\n",
      "farmers;\n",
      "public services\n",
      "mass media\n",
      "industry and retail businesses\n",
      "insurance companies\n",
      "health services\n",
      "\n",
      "In addition to forecasting, meteorologists study the impact of weather on the environment and conduct research into weather patterns, climate change and models of weather prediction.\n",
      "Score:0.738987147808075\n",
      "=========\n",
      "Title: Earth\n",
      "Content: The air animals and plants use to live is only the first level of the air around the Earth (the troposphere). The day to day changes in this level of air are named weather; the changes between places far away from each other and from year to year are named the climate. Rain and storms are both in this level. Both come about because this part of the air gets colder as it goes up. Cold air becomes thicker and falls, and warm air becomes thinner and goes up. The turning Earth moves the air as well and air moves north and south because the middle of the Earth generally gets more power from the Sun and is warmer than the north and south points. At the same time, air over water (specially very warm water) gets water in it but, because cold air is not able to take in as much water, it starts to make clouds and rain as it gets colder. The way water moves around in a circle like this is called the water cycle.\n",
      "Score:0.7411100268363953\n",
      "=========\n",
      "Title: Alps\n",
      "Content: The Alps is a classic example of what happens when a temperate area at lower altitude gives way to higher land. A rise from sea level into the upper regions causes the temperature to decrease. The effect of mountain chains on winds is to carry warm air belonging to the lower region into an upper zone, where it expands and loses heat, and drops snow or rain.\n",
      "\n",
      "Plants \n",
      "The typical trees—oak, beech, ash and sycamore maple have a natural height limit: the 'tree line'. Their upper limit matches the change in climate which comes with increasing height. The change from a temperate to a colder climate is also shown true by a change in the wild flowering plant life. This limit normally lies about  above the sea on the north side of the Alps. On the southern slopes, it often reaches to , sometimes even to .\n",
      "Score:0.7458769679069519\n",
      "=========\n",
      "Title: Photosynthesis\n",
      "Content: Carbon dioxide levels \n",
      "Carbon dioxide is used in the light-independent reactions. It combines with NADPH and ATP and various other chemicals (such as Ribulose Bisphosphate) to form glucose. Therefore, if there is not enough carbon dioxide, then there will be a buildup of NADPH and ATP and not enough glucose will be formed.\n",
      "\n",
      "Temperature \n",
      "There are many enzymes working in photosynthetic reactions – such as the enzyme in photolysis. All enzymes work best at their optimum temperature. All light-dependent and light-independent reactions will occur normally at average or optimum temperatures. Tropical plants have a higher temperature optimum than the plants adapted to temperate climates.\n",
      "\n",
      "When the temperatures are too low, there is little kinetic energy, so the reaction rate decreases. If the temperatures are too high, the enzymes become denatured and the catalysis of photosynthesis reaction stops.\n",
      "\n",
      "Greenhouses must keep an optimum temperature for normal functioning of plants.\n",
      "Score:0.7481483817100525\n",
      "=========\n",
      "Title: Charles Darwin\n",
      "Content: The theory of evolution says that all living things on Earth, including plants, animals and microbes, come from a common ancestor by slowly changing throughout the generations. Darwin suggested that the way living things changed over time is through natural selection. This is the better survival and reproduction of those that best fit their environment. Fitting into the place where you live is called adapting. Those who fit best into the place where they live, the best adapted, have the best chance to survive and breed. Those who are less well-adapted tend not to survive. If they do not survive well enough to raise young, this means they do not pass on their genes. In this way, the species gradually changes.\n",
      "Score:0.7577033638954163\n",
      "=========\n",
      "Title: Climate\n",
      "Content: Tropical climates have warm temperature and only two seasons; wet and dry. An example of a place with a tropical climate is the Amazon Rainforest in Brazil.\n",
      " The Mediterranean climate is usually hot and dry in summer, and is cool and wet in winter. An example of a country with a Mediterranean climate is Spain.\n",
      "Score:0.7599801421165466\n",
      "=========\n",
      "Title: Climate\n",
      "Content: The latitude, ground, and height can change the climate of a location. It is also important to note if oceans or other large bodies of water are nearby. Climates are most commonly classified by temperature and precipitation. The most commonly used classification was the Köppen climate classification, first made by Wladimir Köppen. The Thornthwaite system, which was used from 1948, not only uses temperature and precipitation information, but evapotranspiration too. This makes it useful for studying how many different kinds of animal species there are, and about the things that could happen when climates change. The Bergeron and Spatial Synoptic Classification systems focus more on where the air masses which help make climates come from.\n",
      "\n",
      "Climates can change after a long time. Nowadays people are making the world warmer.\n",
      "\n",
      "Related pages \n",
      " Climatology\n",
      " Köppen climate classification\n",
      "\n",
      "References\n",
      "Score:0.7666394114494324\n",
      "=========\n"
     ]
    }
   ],
   "source": [
    "question = train_dataset[0]['question']\n",
    "answer = train_dataset[0]['article']\n",
    "\n",
    "retrieved_docs = db.similarity_search_with_score(question, k = 15)  # db.similarity_search_with_score(question)\n",
    "\n",
    "print(f\"Question:{question}\\n=========\")\n",
    "print(f\"Gold article:{answer}\\n=========\")\n",
    "for retr_doc in retrieved_docs:\n",
    "    print(f\"Title: {retr_doc[0].metadata['title']}\\nContent: {retr_doc[0].page_content}\\nScore:{retr_doc[1]}\")\n",
    "    print(\"=========\")"
   ]
  },
  {
   "cell_type": "code",
   "execution_count": 10,
   "metadata": {},
   "outputs": [
    {
     "name": "stdout",
     "output_type": "stream",
     "text": [
      "Processing queries...\n",
      "Processing results...\n",
      "gtr_t5_xxl score: 712993 (52.57%)\n",
      "Saved top 5 retrieved documents to retrieved_results_gtr_t5_xxl.json\n"
     ]
    }
   ],
   "source": [
    "print(\"Processing queries...\")\n",
    "model = \"gtr_t5_xxl\"\n",
    "query_embeddings = np.array(get_query_embeddings(train_dataset, db, embedding_path=f\"query_embeddings_{model}.pkl\"), dtype=np.float32)\n",
    "D, I = db.index.search(query_embeddings, k=5)  # k = number of nearest neighbors\n",
    "\n",
    "print(\"Processing results...\")\n",
    "total_score = 0\n",
    "results = [] \n",
    "\n",
    "for idx, item in enumerate(train_dataset):\n",
    "    query = item['question']\n",
    "    gold_title = item['article']\n",
    "    points = item['points']\n",
    "    \n",
    "    # Store top 5 retrieved documents\n",
    "    retrieved_docs = []\n",
    "    for rank in range(5): \n",
    "        doc_index = I[idx][rank]\n",
    "        distance = D[idx][rank]\n",
    "        \n",
    "        doc = db.docstore._dict[db.index_to_docstore_id[doc_index]]\n",
    "        doc_content = doc.page_content\n",
    "        doc_metadata = doc.metadata\n",
    "        retrieved_title = doc_metadata['title']\n",
    "\n",
    "        retrieved_docs.append({\n",
    "            \"rank\": rank + 1,\n",
    "            \"title\": retrieved_title,\n",
    "            \"content\": doc_content,\n",
    "            \"distance\": float(distance)  \n",
    "        })\n",
    "\n",
    "    # Check if the highest-ranked document matches the gold title\n",
    "    if retrieved_docs[0][\"title\"] == gold_title:\n",
    "        total_score += item['points']\n",
    "\n",
    "    results.append({\n",
    "        \"query\": query,\n",
    "        \"gold_article\": gold_title,\n",
    "        \"points\": points, \n",
    "        \"retrieved_docs\": retrieved_docs\n",
    "    })\n",
    "\n",
    "output_data = {\n",
    "    \"model\": model,\n",
    "    \"total_score\": total_score,\n",
    "    \"accuracy_percentage\": round(total_score / max_score * 100, 2),\n",
    "    \"results\": results\n",
    "}\n",
    "\n",
    "with open(f\"retrieved_results_{model}.json\", \"w\", encoding=\"utf-8\") as f:\n",
    "    json.dump(output_data, f, ensure_ascii=False, indent=4)\n",
    "\n",
    "print(f\"{model} score: {total_score} ({output_data['accuracy_percentage']}%)\")\n",
    "print(f\"Saved top 5 retrieved documents to retrieved_results_{model}.json\")\n"
   ]
  },
  {
   "cell_type": "markdown",
   "metadata": {},
   "source": [
    "After visual inspection:\n",
    "- Usually, the gold article is somewhere in the top 5 retrieved documents\n",
    "- There seems to be some noise in the dataset, there is more than one article that can answer the question. For example:\n",
    "\n",
    "```text\n",
    "\"query\": \"what is the name of the largest city in romania?\",\n",
    "\"gold_article\": \"Bucharest\",\n",
    "\"points\": 52,\n",
    "\"retrieved_docs\": [\n",
    "    {\n",
    "        \"rank\": 1,\n",
    "        \"title\": \"Romania\",\n",
    "        \"content\": \"Religion\\nRomania is a secular state. This means Romania has no national religion. The biggest religious group in Romania is the Romanian Orthodox Church. It is an autocephalous church inside of the Eastern Orthodox communion. In 2002, this religion made up 86.7% of the population. Other religions in Romania include Roman Catholicism (4.7%), Protestantism (3.7%), Pentecostalism (1.5%) and the Romanian Greek-Catholicism (0.9%).\\n\\nCities\\n\\nBucharest is the capital of Romania. It also is the biggest city in Romania, with a population of over 2 millions peoples.\\n\\nThere are 5 other cities in Romania that have a population of more than 300,000 people. These are Iaşi, Cluj-Napoca, Timişoara, Constanţa, and Craiova. Romania also has 5 cities that have more than 200,000 people living in them: Galaţi, Braşov, Ploieşti, Brăila, and Oradea.\\n\\nThirteen other cities in Romania have a population of more than 100,000 people.\\n\\nEconomy\",\n",
    "        \"distance\": 0.49112021923065186\n",
    "    },\n",
    "```\n",
    "\n",
    "**\"...Cities: Bucharest is the capital of Romania. It also is the biggest city in Romania...\"**\n",
    "\n",
    "To better measure utility, it may be better to measure top-5 accuracy along with some LLM-as-a-judge to catch edge cases. However, for the sake of this task, we will stick to top-1 accuracy. \n",
    "\n",
    "Since we commonly see that the \"best\" doc is in top 5 but not the top 1, using a **reranker** may help improve performance."
   ]
  },
  {
   "cell_type": "markdown",
   "metadata": {},
   "source": [
    "## Using smaller but more powerful embedder for speed\n",
    "\n",
    "Referred to [MTEB leaderboard](https://huggingface.co/spaces/mteb/leaderboard). Using BAAI/bge-large-en-v1.5"
   ]
  },
  {
   "cell_type": "code",
   "execution_count": 17,
   "metadata": {},
   "outputs": [
    {
     "name": "stderr",
     "output_type": "stream",
     "text": [
      "\u001b[32m 2025-01-31 17:56:45,512 - INFO - Load pretrained SentenceTransformer: BAAI/bge-large-en-v1.5\u001b[0m\n"
     ]
    },
    {
     "name": "stdout",
     "output_type": "stream",
     "text": [
      "BAAI/bge-large-en-v1.5\n"
     ]
    }
   ],
   "source": [
    "model_name = \"BAAI/bge-large-en-v1.5\"\n",
    "print(model_name)\n",
    "embeddings = HuggingFaceEmbeddings(\n",
    "    model_name=model_name,\n",
    "    model_kwargs = {'device':'cuda'},\n",
    "    encode_kwargs = {'normalize_embeddings': False})\n",
    "\n",
    "model_name = model_name.split(\"/\")[1]\n",
    "model_name = model_name.replace(\"-\", \"_\")"
   ]
  },
  {
   "cell_type": "code",
   "execution_count": 18,
   "metadata": {},
   "outputs": [
    {
     "name": "stdout",
     "output_type": "stream",
     "text": [
      "Index found, loading...\n"
     ]
    }
   ],
   "source": [
    "db = get_vector_db(model_name, embeddings, all_splits)"
   ]
  },
  {
   "cell_type": "code",
   "execution_count": 19,
   "metadata": {},
   "outputs": [
    {
     "name": "stdout",
     "output_type": "stream",
     "text": [
      "Processing queries...\n",
      "Processing results...\n",
      "bge_large_en_v1.5 score: 732194 (53.98%)\n",
      "Saved top 5 retrieved documents to retrieved_results_bge_large_en_v1.5.json\n"
     ]
    }
   ],
   "source": [
    "print(\"Processing queries...\")\n",
    "query_embeddings = np.array(get_query_embeddings(train_dataset, db, embedding_path=f\"query_embeddings_{model_name}.pkl\"), dtype=np.float32)\n",
    "D, I = db.index.search(query_embeddings, k=5)  # k = number of nearest neighbors\n",
    "\n",
    "print(\"Processing results...\")\n",
    "total_score = 0\n",
    "results = [] \n",
    "\n",
    "for idx, item in enumerate(train_dataset):\n",
    "    query = item['question']\n",
    "    gold_title = item['article']\n",
    "    points = item['points']\n",
    "    \n",
    "    # Store top 5 retrieved documents\n",
    "    retrieved_docs = []\n",
    "    for rank in range(5): \n",
    "        doc_index = I[idx][rank]\n",
    "        distance = D[idx][rank]\n",
    "        \n",
    "        doc = db.docstore._dict[db.index_to_docstore_id[doc_index]]\n",
    "        doc_content = doc.page_content\n",
    "        doc_metadata = doc.metadata\n",
    "        retrieved_title = doc_metadata['title']\n",
    "\n",
    "        retrieved_docs.append({\n",
    "            \"rank\": rank + 1,\n",
    "            \"title\": retrieved_title,\n",
    "            \"content\": doc_content,\n",
    "            \"distance\": float(distance)  \n",
    "        })\n",
    "\n",
    "    # Check if the highest-ranked document matches the gold title\n",
    "    if retrieved_docs[0][\"title\"] == gold_title:\n",
    "        total_score += item['points']\n",
    "\n",
    "    results.append({\n",
    "        \"query\": query,\n",
    "        \"gold_article\": gold_title,\n",
    "        \"points\": points, \n",
    "        \"retrieved_docs\": retrieved_docs\n",
    "    })\n",
    "\n",
    "output_data = {\n",
    "    \"model_name\": model_name,\n",
    "    \"total_score\": total_score,\n",
    "    \"accuracy_percentage\": round(total_score / max_score * 100, 2),\n",
    "    \"results\": results\n",
    "}\n",
    "\n",
    "with open(f\"retrieved_results_{model_name}.json\", \"w\", encoding=\"utf-8\") as f:\n",
    "    json.dump(output_data, f, ensure_ascii=False, indent=4)\n",
    "\n",
    "print(f\"{model_name} score: {total_score} ({output_data['accuracy_percentage']}%)\")\n",
    "print(f\"Saved top 5 retrieved documents to retrieved_results_{model_name}.json\")\n"
   ]
  },
  {
   "cell_type": "markdown",
   "metadata": {},
   "source": [
    "## Hybrid search\n",
    "\n",
    "Can keyword search help us?"
   ]
  },
  {
   "cell_type": "code",
   "execution_count": 13,
   "metadata": {},
   "outputs": [],
   "source": [
    "from langchain.retrievers import BM25Retriever, EnsembleRetriever\n",
    "\n",
    "bm25_retriever = BM25Retriever.from_documents(all_splits)\n",
    "bm25_retriever.k = 10\n",
    "faiss_retriever = db.as_retriever(search_kwargs={\"k\": 10}) \n",
    "\n",
    "ensemble_retriever = EnsembleRetriever(\n",
    "    retrievers=[bm25_retriever, faiss_retriever], weights=[0.25,0.75]\n",
    ")"
   ]
  },
  {
   "cell_type": "code",
   "execution_count": null,
   "metadata": {},
   "outputs": [],
   "source": [
    "results = []\n",
    "total_score = 0\n",
    "\n",
    "for idx, item in enumerate(tqdm(train_dataset)): # for each validation query\n",
    "    question = item['question']\n",
    "    points = item['points']\n",
    "\n",
    "    retrieved_docs = ensemble_retriever.invoke(question)\n",
    "    retrieved_data = [\n",
    "        {\n",
    "            \"title\": doc.metadata[\"title\"],\n",
    "            \"content\": doc.page_content,\n",
    "        }\n",
    "        for doc in retrieved_docs\n",
    "    ]\n",
    "\n",
    "    retr_doc = retrieved_docs[0]\n",
    "    retr_title = retr_doc.metadata['title']\n",
    "    gold_title = item['article']\n",
    "\n",
    "    if retr_title == gold_title:\n",
    "        total_score += item['points']\n",
    "        \n",
    "    results.append({\n",
    "        \"query\": question,\n",
    "        \"gold_article\": gold_title,\n",
    "        \"points\": points, \n",
    "        \"retrieved_docs\": retrieved_data\n",
    "    })\n",
    "\n",
    "output_data = {\n",
    "    \"model\": model,\n",
    "    \"total_score\": total_score,\n",
    "    \"accuracy_percentage\": round(total_score / max_score * 100, 2),\n",
    "    \"results\": results\n",
    "}\n",
    "\n",
    "with open(f\"retrieved_results_hybrid.json\", \"w\", encoding=\"utf-8\") as f:\n",
    "    json.dump(output_data, f, ensure_ascii=False, indent=4)\n",
    "logger.info(f\"Hybrid score: {total_score} ({output_data['accuracy_percentage']}%)\")\n"
   ]
  },
  {
   "cell_type": "markdown",
   "metadata": {},
   "source": [
    "## Reranker"
   ]
  },
  {
   "cell_type": "code",
   "execution_count": 12,
   "metadata": {},
   "outputs": [],
   "source": [
    "def rerank_topk(reranker, question, documents):\n",
    "    all_docs_ls = []\n",
    "    titles = []  \n",
    "\n",
    "    for document in documents:\n",
    "        doc_content = document.page_content\n",
    "        doc_title = document.metadata[\"title\"]\n",
    "        qs_doc_ls = [question, doc_content]\n",
    "        all_docs_ls.append(qs_doc_ls)\n",
    "        titles.append(doc_title)\n",
    "\n",
    "    scores = reranker.compute_score(all_docs_ls)\n",
    "    zipped_lists = list(zip(scores, all_docs_ls, titles))  # Include titles\n",
    "    sorted_lists = sorted(zipped_lists, key=lambda x: x[0], reverse=True)\n",
    "    sorted_scores, sorted_original, sorted_titles = zip(*sorted_lists)\n",
    "    result_new = [Document(page_content=content[1], metadata={\"title\": title}) \n",
    "                  for content, title in zip(sorted_original, sorted_titles)]\n",
    "    return result_new, list(sorted_scores)"
   ]
  },
  {
   "cell_type": "code",
   "execution_count": 14,
   "metadata": {},
   "outputs": [
    {
     "data": {
      "application/vnd.jupyter.widget-view+json": {
       "model_id": "5ca49cf502b843b4a9bfd1fdee0a5daf",
       "version_major": 2,
       "version_minor": 0
      },
      "text/plain": [
       "  0%|          | 0/20 [00:00<?, ?it/s]"
      ]
     },
     "metadata": {},
     "output_type": "display_data"
    },
    {
     "name": "stderr",
     "output_type": "stream",
     "text": [
      "You're using a XLMRobertaTokenizerFast tokenizer. Please note that with a fast tokenizer, using the `__call__` method is faster than using a method to encode the text followed by a call to the `pad` method to get a padded encoding.\n"
     ]
    },
    {
     "name": "stdout",
     "output_type": "stream",
     "text": [
      "Rerank score: 686 (0.05%)\n"
     ]
    }
   ],
   "source": [
    "retriever = db.as_retriever(search_kwargs={\"k\": 15}) \n",
    "reranker = FlagReranker('BAAI/bge-reranker-large')\n",
    "results = []\n",
    "total_score = 0\n",
    "\n",
    "for idx, item in enumerate(tqdm(train_dataset[:20])):\n",
    "    question = item['question']\n",
    "    points = item['points']\n",
    "\n",
    "    retrieved_docs = retriever.invoke(question)\n",
    "    retrieved_docs, reranked_scores = rerank_topk(reranker, question, retrieved_docs)[:5]\n",
    "    \n",
    "    retrieved_data = [\n",
    "        {\n",
    "            \"title\": doc.metadata[\"title\"],\n",
    "            \"content\": doc.page_content,\n",
    "            \"score\": score\n",
    "        }\n",
    "        for doc, score in zip(retrieved_docs, reranked_scores)\n",
    "    ]\n",
    "\n",
    "    retr_doc = retrieved_docs[0]\n",
    "    retr_title = retr_doc.metadata['title']\n",
    "    gold_title = item['article']\n",
    "\n",
    "    if retr_title == gold_title:\n",
    "        total_score += item['points']\n",
    "        \n",
    "    results.append({\n",
    "        \"query\": question,\n",
    "        \"gold_article\": gold_title,\n",
    "        \"points\": points, \n",
    "        \"retrieved_docs\": retrieved_data\n",
    "    })\n",
    "\n",
    "output_data = {\n",
    "    \"model\": model,\n",
    "    \"total_score\": total_score,\n",
    "    \"accuracy_percentage\": round(total_score / max_score * 100, 2),\n",
    "    \"results\": results\n",
    "}\n",
    "\n",
    "with open(f\"retrieved_results_rerank.json\", \"w\", encoding=\"utf-8\") as f:\n",
    "    json.dump(output_data, f, ensure_ascii=False, indent=4)\n",
    "\n",
    "print(f\"Rerank score: {total_score} ({output_data['accuracy_percentage']}%)\")"
   ]
  },
  {
   "cell_type": "code",
   "execution_count": 11,
   "metadata": {},
   "outputs": [
    {
     "name": "stdout",
     "output_type": "stream",
     "text": [
      "<class 'faiss.swigfaiss_avx2.GpuIndexFlat'>\n"
     ]
    }
   ],
   "source": [
    "import faiss\n",
    "\n",
    "# Create a CPU-based FAISS index\n",
    "cpu_index = faiss.IndexFlatL2(128)\n",
    "\n",
    "# Move FAISS index to GPU\n",
    "gpu_resources = faiss.StandardGpuResources()  # Initialize GPU resources\n",
    "gpu_index = faiss.index_cpu_to_gpu(gpu_resources, 0, cpu_index)  # 0 = GPU ID\n",
    "\n",
    "print(type(gpu_index))  # Output: <class 'faiss.swigfaiss.GpuIndexFlatL2'>\n"
   ]
  },
  {
   "cell_type": "code",
   "execution_count": 13,
   "metadata": {},
   "outputs": [
    {
     "name": "stdout",
     "output_type": "stream",
     "text": [
      "FAISS is now using GPU ✅\n"
     ]
    }
   ],
   "source": [
    "import faiss\n",
    "\n",
    "# Get FAISS index from LangChain's FAISS wrapper\n",
    "faiss_index = db.index\n",
    "\n",
    "# Move the FAISS index to GPU\n",
    "gpu_resources = faiss.StandardGpuResources()\n",
    "gpu_index = faiss.index_cpu_to_gpu(gpu_resources, 0, faiss_index)  # 0 = GPU ID\n",
    "\n",
    "# Replace LangChain FAISS index with GPU index\n",
    "db.index = gpu_index\n",
    "\n",
    "print(\"FAISS is now using GPU ✅\")\n"
   ]
  },
  {
   "cell_type": "code",
   "execution_count": null,
   "metadata": {},
   "outputs": [],
   "source": []
  }
 ],
 "metadata": {
  "kernelspec": {
   "display_name": "faiss_1.8.0",
   "language": "python",
   "name": "python3"
  },
  "language_info": {
   "codemirror_mode": {
    "name": "ipython",
    "version": 3
   },
   "file_extension": ".py",
   "mimetype": "text/x-python",
   "name": "python",
   "nbconvert_exporter": "python",
   "pygments_lexer": "ipython3",
   "version": "3.10.16"
  }
 },
 "nbformat": 4,
 "nbformat_minor": 2
}
